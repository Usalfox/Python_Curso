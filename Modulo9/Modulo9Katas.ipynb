{
 "cells": [
  {
   "attachments": {},
   "cell_type": "markdown",
   "metadata": {},
   "source": [
    "# MODULO 9\n",
    "Funciones"
   ]
  },
  {
   "cell_type": "code",
   "execution_count": 1,
   "metadata": {},
   "outputs": [],
   "source": [
    "# Defino mi función\n",
    "def rocket_parts():\n",
    "    print('payload, propellant, structure')"
   ]
  },
  {
   "cell_type": "code",
   "execution_count": 5,
   "metadata": {},
   "outputs": [
    {
     "name": "stdout",
     "output_type": "stream",
     "text": [
      "payload, propellant, structure\n"
     ]
    }
   ],
   "source": [
    "# Llamo a mi función\n",
    "rocket_parts()\n"
   ]
  },
  {
   "cell_type": "code",
   "execution_count": 7,
   "metadata": {},
   "outputs": [
    {
     "name": "stdout",
     "output_type": "stream",
     "text": [
      "payload, propellant, structure\n"
     ]
    },
    {
     "data": {
      "text/plain": [
       "True"
      ]
     },
     "execution_count": 7,
     "metadata": {},
     "output_type": "execute_result"
    }
   ],
   "source": [
    "# Valor que devuelve una funcion \n",
    "output = rocket_parts()\n",
    "\n",
    "output is None\n",
    "True"
   ]
  },
  {
   "cell_type": "code",
   "execution_count": 25,
   "metadata": {},
   "outputs": [],
   "source": [
    "def rocket_parts():\n",
    "...     return 'payload, propellant, structure'\n",
    "\n",
    "    output = rocket_parts()\n",
    "    output\n"
   ]
  },
  {
   "cell_type": "code",
   "execution_count": 29,
   "metadata": {},
   "outputs": [
    {
     "data": {
      "text/plain": [
       "False"
      ]
     },
     "execution_count": 29,
     "metadata": {},
     "output_type": "execute_result"
    }
   ],
   "source": [
    "# Argumentos opcionales y requeridos \n",
    "any([True, False, False])\n",
    "any([False, False, False])"
   ]
  },
  {
   "cell_type": "code",
   "execution_count": 42,
   "metadata": {},
   "outputs": [],
   "source": [
    "# Uso de argumentos en una función\n",
    "def distance_from_earth(destination):\n",
    "    if destination == 'Moon':\n",
    "        return '238,855'\n",
    "    else:\n",
    "        return 'Unable to compute to that destination'\n",
    "        \n",
    "        distance_from_earth('Saturn')\n",
    "\n",
    "            "
   ]
  },
  {
   "cell_type": "code",
   "execution_count": 46,
   "metadata": {},
   "outputs": [],
   "source": [
    "# Varios argumentos necesarios \n",
    "def days_to_complete(distance, speed):\n",
    "    hours = distance/speed\n",
    "    return hours/24"
   ]
  },
  {
   "cell_type": "code",
   "execution_count": 47,
   "metadata": {},
   "outputs": [
    {
     "data": {
      "text/plain": [
       "132.69722222222222"
      ]
     },
     "execution_count": 47,
     "metadata": {},
     "output_type": "execute_result"
    }
   ],
   "source": [
    "  days_to_complete(238855, 75)"
   ]
  },
  {
   "cell_type": "code",
   "execution_count": 50,
   "metadata": {},
   "outputs": [
    {
     "data": {
      "text/plain": [
       "133"
      ]
     },
     "execution_count": 50,
     "metadata": {},
     "output_type": "execute_result"
    }
   ],
   "source": [
    "# Funciones como argumento\n",
    "total_days = days_to_complete(238855, 75)\n",
    "round(total_days)\n",
    "round(days_to_complete(238855, 75))"
   ]
  },
  {
   "cell_type": "code",
   "execution_count": 51,
   "metadata": {},
   "outputs": [],
   "source": [
    "# Uso de arguemntos de palabras clave \n",
    "from datetime import timedelta, datetime\n",
    "\n",
    "def arrival_time(hours=51):\n",
    "    now = datetime.now()\n",
    "    arrival = now + timedelta(hours=hours)\n",
    "    return arrival.strftime('Arrival: %A %H:%M')"
   ]
  },
  {
   "cell_type": "code",
   "execution_count": 52,
   "metadata": {},
   "outputs": [
    {
     "data": {
      "text/plain": [
       "'Arrival: Sunday 14:55'"
      ]
     },
     "execution_count": 52,
     "metadata": {},
     "output_type": "execute_result"
    }
   ],
   "source": [
    "arrival_time(hours=0)"
   ]
  },
  {
   "attachments": {},
   "cell_type": "markdown",
   "metadata": {},
   "source": [
    " # EJERCICIOS\n"
   ]
  },
  {
   "attachments": {},
   "cell_type": "markdown",
   "metadata": {},
   "source": [
    "Ejercicio 1"
   ]
  },
  {
   "cell_type": "code",
   "execution_count": 61,
   "metadata": {},
   "outputs": [],
   "source": [
    "# Función para leer 3 tanques de combustible y muestre el promedio\n",
    "def generador_reporte(prin_tanque, exter_tanque, hydro_tanque):\n",
    "    total_prom = (prin_tanque + exter_tanque +hydro_tanque) / 3\n",
    "    return f\"\"\"Reporte de conbustible:\n",
    "    Promedio total: {total_prom}%\n",
    "    Tanque principal: {prin_tanque}%\n",
    "    Tanque externo: {exter_tanque}%\n",
    "    Tanque hydrogeno: {hydro_tanque}%\n",
    "    \"\"\""
   ]
  },
  {
   "cell_type": "code",
   "execution_count": 70,
   "metadata": {},
   "outputs": [
    {
     "name": "stdout",
     "output_type": "stream",
     "text": [
      "Reporte de conbustible:\n",
      "    Promedio total: 40.0%\n",
      "    Tanque principal: 30%\n",
      "    Tanque externo: 40%\n",
      "    Tanque hydrogeno: 50%\n",
      "    \n"
     ]
    }
   ],
   "source": [
    "# Llamamos la función \n",
    "print(generador_reporte(30,40,50))"
   ]
  },
  {
   "cell_type": "code",
   "execution_count": 72,
   "metadata": {},
   "outputs": [],
   "source": [
    "# Función promedio\n",
    "def promedio(valor):\n",
    "    total = sum(valor)\n",
    "    numdatos = len(valor)\n",
    "    return total/ numdatos\n",
    "\n",
    "    print(promedio(98,50,30))\n",
    "    "
   ]
  },
  {
   "cell_type": "code",
   "execution_count": 77,
   "metadata": {},
   "outputs": [],
   "source": [
    "# Función actualizada\n",
    "def generador_reporte(prin_tanque, exter_tanque, hydro_tanque):\n",
    "    return f\"\"\"Reporte de conbustible:\n",
    "    Promedio total: {promedio([prin_tanque, exter_tanque, hydro_tanque])}%\n",
    "    Tanque principal: {prin_tanque}%\n",
    "    Tanque externo: {exter_tanque}%\n",
    "    Tanque hydrogeno: {hydro_tanque}%\n",
    "    \"\"\"\n",
    "\n",
    "    print (generador_reporte(10,20,30))"
   ]
  },
  {
   "attachments": {},
   "cell_type": "markdown",
   "metadata": {},
   "source": [
    "Ejercicio 2"
   ]
  },
  {
   "cell_type": "code",
   "execution_count": 88,
   "metadata": {},
   "outputs": [],
   "source": [
    "# Función con un informe preciso de la misión. Considera hora de prelanzamiento, tiempo de vuelo, destino, tanque externo y tanque interno\n",
    "def generar_reporte(horaInicio,horaVuelo,destino,tanqueexterno,tanqueprincipal):\n",
    "    return f\"\"\"Reporte de misión: \n",
    "    Destino: {destino}\n",
    "    Timpo total: {horaInicio + horaVuelo} mn\n",
    "    Total del conbustible: {tanqueexterno + tanqueprincipal} gl\n",
    "    \"\"\""
   ]
  },
  {
   "cell_type": "code",
   "execution_count": 89,
   "metadata": {},
   "outputs": [
    {
     "name": "stdout",
     "output_type": "stream",
     "text": [
      "Reporte de misión: \n",
      "    Destino: Marte\n",
      "    Timpo total: 30 mn\n",
      "    Total del conbustible: 300 gl\n",
      "    \n"
     ]
    }
   ],
   "source": [
    "print(generar_reporte(10, 20, \"Marte\", 100, 200))"
   ]
  },
  {
   "cell_type": "code",
   "execution_count": 86,
   "metadata": {},
   "outputs": [],
   "source": [
    "def nuevo_reporte(destino, *minutos, **conbustiblereserva):\n",
    "    nuevo_reporte = f\"\"\"\n",
    "    Destino: {destino}\n",
    "    Tiempo total: {sum(minutos)}\n",
    "    Total combustible: {sum(conbustiblereserva.values())}\n",
    "    \"\"\"\n",
    "\n",
    "    for tanquen, galones in conbustiblereserva.items():\n",
    "        nuevo_reporte += f\" El {tanquen} {galones} galones\"\n",
    "        return nuevo_reporte\n",
    "\n"
   ]
  },
  {
   "cell_type": "code",
   "execution_count": 87,
   "metadata": {},
   "outputs": [
    {
     "name": "stdout",
     "output_type": "stream",
     "text": [
      "\n",
      "    Destino: Tierra\n",
      "    Tiempo total: 11\n",
      "    Total combustible: 2394764\n",
      "     El Principal 3772 galones\n"
     ]
    }
   ],
   "source": [
    "print(nuevo_reporte(\"Tierra\", 2, 4, 5, Principal=3772, Externo=2390992))"
   ]
  },
  {
   "cell_type": "code",
   "execution_count": 92,
   "metadata": {},
   "outputs": [],
   "source": [
    "def nuevo_reporte(destino, *minutos, **conbustiblereserva):\n",
    "    reporte = f\"\"\"\n",
    "    Destino: {destino}\n",
    "    Total de tiempo: {sum(minutos)}\n",
    "    Total de conbustible: {sum(conbustiblereserva.values())}\n",
    "    \"\"\"\n",
    "\n",
    "    for tanquen, galones in conbustiblereserva.items():\n",
    "        reporte += f\"El {tanquen} {galones} galones\"\n",
    "        return reporte"
   ]
  },
  {
   "cell_type": "code",
   "execution_count": 93,
   "metadata": {},
   "outputs": [
    {
     "name": "stdout",
     "output_type": "stream",
     "text": [
      "\n",
      "    Destino: Saturno\n",
      "    Total de tiempo: 7\n",
      "    Total de conbustible: 3890396\n",
      "    El Principal 3887623 galones\n"
     ]
    }
   ],
   "source": [
    "print (nuevo_reporte(\"Saturno\", 2, 5, Principal=3887623, Externo=2773))"
   ]
  }
 ],
 "metadata": {
  "kernelspec": {
   "display_name": "Python 3",
   "language": "python",
   "name": "python3"
  },
  "language_info": {
   "codemirror_mode": {
    "name": "ipython",
    "version": 3
   },
   "file_extension": ".py",
   "mimetype": "text/x-python",
   "name": "python",
   "nbconvert_exporter": "python",
   "pygments_lexer": "ipython3",
   "version": "3.11.3"
  },
  "orig_nbformat": 4
 },
 "nbformat": 4,
 "nbformat_minor": 2
}
