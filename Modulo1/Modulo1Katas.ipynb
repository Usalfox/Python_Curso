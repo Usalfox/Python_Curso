{
 "cells": [
  {
   "attachments": {},
   "cell_type": "markdown",
   "metadata": {},
   "source": [
    "# MODULO1\n"
   ]
  },
  {
   "cell_type": "code",
   "execution_count": 5,
   "metadata": {},
   "outputs": [
    {
     "name": "stdout",
     "output_type": "stream",
     "text": [
      "3\n",
      "Hola desde la consola\n",
      "6\n"
     ]
    }
   ],
   "source": [
    "sum = 1 + 2\n",
    "print(sum)\n",
    "\n",
    "print('Hola desde la consola')\n",
    "\n",
    "sum = 1 + 2 # 3\n",
    "product = sum * 2\n",
    "print(product)"
   ]
  },
  {
   "attachments": {},
   "cell_type": "markdown",
   "metadata": {},
   "source": [
    "# Ejersicios "
   ]
  },
  {
   "cell_type": "code",
   "execution_count": 4,
   "metadata": {},
   "outputs": [
    {
     "name": "stdout",
     "output_type": "stream",
     "text": [
      "La fecha actual es:2023-05-21\n"
     ]
    }
   ],
   "source": [
    "#Fecha de hoy\n",
    "from datetime import date\n",
    "print(\"La fecha actual es:\" + str(date.today()))"
   ]
  },
  {
   "cell_type": "code",
   "execution_count": 1,
   "metadata": {},
   "outputs": [
    {
     "name": "stdout",
     "output_type": "stream",
     "text": [
      "11parsec, es35.877159999999996Años Luz\n"
     ]
    }
   ],
   "source": [
    "#Covertidor de unidades \n",
    "parsec=11\n",
    "añosluz = 3.26156 * parsec\n",
    "print(str(parsec)+ \"parsec, es\" + str(añosluz) + \"Años Luz\")"
   ]
  }
 ],
 "metadata": {
  "kernelspec": {
   "display_name": "Python 3",
   "language": "python",
   "name": "python3"
  },
  "language_info": {
   "codemirror_mode": {
    "name": "ipython",
    "version": 3
   },
   "file_extension": ".py",
   "mimetype": "text/x-python",
   "name": "python",
   "nbconvert_exporter": "python",
   "pygments_lexer": "ipython3",
   "version": "3.11.3"
  },
  "orig_nbformat": 4
 },
 "nbformat": 4,
 "nbformat_minor": 2
}
